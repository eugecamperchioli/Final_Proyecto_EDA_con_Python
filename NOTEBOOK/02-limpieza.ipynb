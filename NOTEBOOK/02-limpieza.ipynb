{
 "cells": [
  {
   "cell_type": "code",
   "execution_count": 1,
   "id": "10867ccb",
   "metadata": {},
   "outputs": [],
   "source": [
    "# importacion de librerias\n",
    "import pandas as pd\n",
    "import numpy as np\n",
    "\n",
    "# visualizaciones\n",
    "import matplotlib.pyplot as plt\n",
    "import seaborn as sns"
   ]
  },
  {
   "cell_type": "code",
   "execution_count": 2,
   "id": "4772c9f0",
   "metadata": {},
   "outputs": [],
   "source": [
    "df = pd.read_csv('../data/raw/bank-additional.csv', index_col=0)"
   ]
  },
  {
   "cell_type": "code",
   "execution_count": 3,
   "id": "0edd694b",
   "metadata": {},
   "outputs": [
    {
     "data": {
      "text/html": [
       "<div>\n",
       "<style scoped>\n",
       "    .dataframe tbody tr th:only-of-type {\n",
       "        vertical-align: middle;\n",
       "    }\n",
       "\n",
       "    .dataframe tbody tr th {\n",
       "        vertical-align: top;\n",
       "    }\n",
       "\n",
       "    .dataframe thead th {\n",
       "        text-align: right;\n",
       "    }\n",
       "</style>\n",
       "<table border=\"1\" class=\"dataframe\">\n",
       "  <thead>\n",
       "    <tr style=\"text-align: right;\">\n",
       "      <th></th>\n",
       "      <th>age</th>\n",
       "      <th>job</th>\n",
       "      <th>marital</th>\n",
       "      <th>education</th>\n",
       "      <th>default</th>\n",
       "      <th>housing</th>\n",
       "      <th>loan</th>\n",
       "      <th>contact</th>\n",
       "      <th>duration</th>\n",
       "      <th>campaign</th>\n",
       "      <th>...</th>\n",
       "      <th>emp.var.rate</th>\n",
       "      <th>cons.price.idx</th>\n",
       "      <th>cons.conf.idx</th>\n",
       "      <th>euribor3m</th>\n",
       "      <th>nr.employed</th>\n",
       "      <th>y</th>\n",
       "      <th>date</th>\n",
       "      <th>latitude</th>\n",
       "      <th>longitude</th>\n",
       "      <th>id_</th>\n",
       "    </tr>\n",
       "  </thead>\n",
       "  <tbody>\n",
       "    <tr>\n",
       "      <th>0</th>\n",
       "      <td>NaN</td>\n",
       "      <td>housemaid</td>\n",
       "      <td>MARRIED</td>\n",
       "      <td>basic.4y</td>\n",
       "      <td>0.0</td>\n",
       "      <td>0.0</td>\n",
       "      <td>0.0</td>\n",
       "      <td>telephone</td>\n",
       "      <td>261</td>\n",
       "      <td>1</td>\n",
       "      <td>...</td>\n",
       "      <td>1.1</td>\n",
       "      <td>93,994</td>\n",
       "      <td>-36,4</td>\n",
       "      <td>4,857</td>\n",
       "      <td>5191</td>\n",
       "      <td>no</td>\n",
       "      <td>2-agosto-2019</td>\n",
       "      <td>41.495</td>\n",
       "      <td>-71.233</td>\n",
       "      <td>089b39d8-e4d0-461b-87d4-814d71e0e079</td>\n",
       "    </tr>\n",
       "    <tr>\n",
       "      <th>1</th>\n",
       "      <td>57.0</td>\n",
       "      <td>services</td>\n",
       "      <td>MARRIED</td>\n",
       "      <td>high.school</td>\n",
       "      <td>NaN</td>\n",
       "      <td>0.0</td>\n",
       "      <td>0.0</td>\n",
       "      <td>telephone</td>\n",
       "      <td>149</td>\n",
       "      <td>1</td>\n",
       "      <td>...</td>\n",
       "      <td>1.1</td>\n",
       "      <td>93,994</td>\n",
       "      <td>-36,4</td>\n",
       "      <td>NaN</td>\n",
       "      <td>5191</td>\n",
       "      <td>no</td>\n",
       "      <td>14-septiembre-2016</td>\n",
       "      <td>34.601</td>\n",
       "      <td>-83.923</td>\n",
       "      <td>e9d37224-cb6f-4942-98d7-46672963d097</td>\n",
       "    </tr>\n",
       "    <tr>\n",
       "      <th>2</th>\n",
       "      <td>37.0</td>\n",
       "      <td>services</td>\n",
       "      <td>MARRIED</td>\n",
       "      <td>high.school</td>\n",
       "      <td>0.0</td>\n",
       "      <td>1.0</td>\n",
       "      <td>0.0</td>\n",
       "      <td>telephone</td>\n",
       "      <td>226</td>\n",
       "      <td>1</td>\n",
       "      <td>...</td>\n",
       "      <td>1.1</td>\n",
       "      <td>93,994</td>\n",
       "      <td>-36,4</td>\n",
       "      <td>4,857</td>\n",
       "      <td>5191</td>\n",
       "      <td>no</td>\n",
       "      <td>15-febrero-2019</td>\n",
       "      <td>34.939</td>\n",
       "      <td>-94.847</td>\n",
       "      <td>3f9f49b5-e410-4948-bf6e-f9244f04918b</td>\n",
       "    </tr>\n",
       "    <tr>\n",
       "      <th>3</th>\n",
       "      <td>40.0</td>\n",
       "      <td>admin.</td>\n",
       "      <td>MARRIED</td>\n",
       "      <td>basic.6y</td>\n",
       "      <td>0.0</td>\n",
       "      <td>0.0</td>\n",
       "      <td>0.0</td>\n",
       "      <td>telephone</td>\n",
       "      <td>151</td>\n",
       "      <td>1</td>\n",
       "      <td>...</td>\n",
       "      <td>1.1</td>\n",
       "      <td>93,994</td>\n",
       "      <td>-36,4</td>\n",
       "      <td>NaN</td>\n",
       "      <td>5191</td>\n",
       "      <td>no</td>\n",
       "      <td>29-noviembre-2015</td>\n",
       "      <td>49.041</td>\n",
       "      <td>-70.308</td>\n",
       "      <td>9991fafb-4447-451a-8be2-b0df6098d13e</td>\n",
       "    </tr>\n",
       "    <tr>\n",
       "      <th>4</th>\n",
       "      <td>56.0</td>\n",
       "      <td>services</td>\n",
       "      <td>MARRIED</td>\n",
       "      <td>high.school</td>\n",
       "      <td>0.0</td>\n",
       "      <td>0.0</td>\n",
       "      <td>1.0</td>\n",
       "      <td>telephone</td>\n",
       "      <td>307</td>\n",
       "      <td>1</td>\n",
       "      <td>...</td>\n",
       "      <td>1.1</td>\n",
       "      <td>93,994</td>\n",
       "      <td>-36,4</td>\n",
       "      <td>NaN</td>\n",
       "      <td>5191</td>\n",
       "      <td>no</td>\n",
       "      <td>29-enero-2017</td>\n",
       "      <td>38.033</td>\n",
       "      <td>-104.463</td>\n",
       "      <td>eca60b76-70b6-4077-80ba-bc52e8ebb0eb</td>\n",
       "    </tr>\n",
       "  </tbody>\n",
       "</table>\n",
       "<p>5 rows × 23 columns</p>\n",
       "</div>"
      ],
      "text/plain": [
       "    age        job  marital    education  default  housing  loan    contact  \\\n",
       "0   NaN  housemaid  MARRIED     basic.4y      0.0      0.0   0.0  telephone   \n",
       "1  57.0   services  MARRIED  high.school      NaN      0.0   0.0  telephone   \n",
       "2  37.0   services  MARRIED  high.school      0.0      1.0   0.0  telephone   \n",
       "3  40.0     admin.  MARRIED     basic.6y      0.0      0.0   0.0  telephone   \n",
       "4  56.0   services  MARRIED  high.school      0.0      0.0   1.0  telephone   \n",
       "\n",
       "   duration  campaign  ...  emp.var.rate  cons.price.idx cons.conf.idx  \\\n",
       "0       261         1  ...           1.1          93,994         -36,4   \n",
       "1       149         1  ...           1.1          93,994         -36,4   \n",
       "2       226         1  ...           1.1          93,994         -36,4   \n",
       "3       151         1  ...           1.1          93,994         -36,4   \n",
       "4       307         1  ...           1.1          93,994         -36,4   \n",
       "\n",
       "   euribor3m nr.employed   y                date latitude longitude  \\\n",
       "0      4,857        5191  no       2-agosto-2019   41.495   -71.233   \n",
       "1        NaN        5191  no  14-septiembre-2016   34.601   -83.923   \n",
       "2      4,857        5191  no     15-febrero-2019   34.939   -94.847   \n",
       "3        NaN        5191  no   29-noviembre-2015   49.041   -70.308   \n",
       "4        NaN        5191  no       29-enero-2017   38.033  -104.463   \n",
       "\n",
       "                                    id_  \n",
       "0  089b39d8-e4d0-461b-87d4-814d71e0e079  \n",
       "1  e9d37224-cb6f-4942-98d7-46672963d097  \n",
       "2  3f9f49b5-e410-4948-bf6e-f9244f04918b  \n",
       "3  9991fafb-4447-451a-8be2-b0df6098d13e  \n",
       "4  eca60b76-70b6-4077-80ba-bc52e8ebb0eb  \n",
       "\n",
       "[5 rows x 23 columns]"
      ]
     },
     "execution_count": 3,
     "metadata": {},
     "output_type": "execute_result"
    }
   ],
   "source": [
    "df.head()"
   ]
  },
  {
   "cell_type": "markdown",
   "id": "b71fc86c",
   "metadata": {},
   "source": [
    "## SELECCION DE COLUMNAS \n",
    "vamos a eliminar las columnas que no son relevantes para nuestro analisis segun lo que vimos hasta ahora.\n",
    "- default: practicamente solo tenemos datos de clientes con inclumpimiento de pago y nulos. no es de utilidad para el estudio por la falta de datos, por el momento los eliminamos.\n",
    "- pdays: no parece relevante para el estudio, la eliminamos. \n",
    "- previous: No es muy informativa, ya que el 75% de los clientes no fueron contactados antes.\n",
    "- latitude y longitude: no tiene sentido, la eliminamos\n",
    "- contact: parece un dato irrelevante para el estudio, la eliminamos\n",
    "- poutcome: no nos da mucha infirmacion, tenemos 90% de datos sin informacion, la eliminamos"
   ]
  },
  {
   "cell_type": "code",
   "execution_count": 4,
   "id": "5df5068e",
   "metadata": {},
   "outputs": [],
   "source": [
    "columnas_eliminar = ['default','pdays','previous','latitude','longitude','contact','poutcome']"
   ]
  },
  {
   "cell_type": "code",
   "execution_count": 5,
   "id": "dd7d296c",
   "metadata": {},
   "outputs": [],
   "source": [
    "df = df.drop(columns=columnas_eliminar)"
   ]
  },
  {
   "cell_type": "code",
   "execution_count": 6,
   "id": "58583b47",
   "metadata": {},
   "outputs": [
    {
     "data": {
      "text/plain": [
       "Index(['age', 'job', 'marital', 'education', 'housing', 'loan', 'duration',\n",
       "       'campaign', 'emp.var.rate', 'cons.price.idx', 'cons.conf.idx',\n",
       "       'euribor3m', 'nr.employed', 'y', 'date', 'id_'],\n",
       "      dtype='object')"
      ]
     },
     "execution_count": 6,
     "metadata": {},
     "output_type": "execute_result"
    }
   ],
   "source": [
    "df.columns"
   ]
  },
  {
   "cell_type": "markdown",
   "id": "4e0bbdef",
   "metadata": {},
   "source": [
    "## LIMPIEZA DE DATOS"
   ]
  },
  {
   "cell_type": "markdown",
   "id": "b9a41036",
   "metadata": {},
   "source": [
    "## COLUMNA AGE\n",
    "como tenemos un 12% de nulos, que es moderado, no demasiado, vamos a rellenar los valores faltantes con una imputacion aleatoria apartir de los valores existentes"
   ]
  },
  {
   "cell_type": "code",
   "execution_count": 7,
   "id": "ea5cd7f7",
   "metadata": {},
   "outputs": [],
   "source": [
    "n_nulos = df['age'].isnull().sum()\n",
    "\n",
    "valores_aleatorios = np.random.choice(df['age'].dropna(), size=n_nulos, replace=True)\n",
    "df.loc[df['age'].isnull(), 'age'] = valores_aleatorios"
   ]
  },
  {
   "cell_type": "markdown",
   "id": "bfcd79ae",
   "metadata": {},
   "source": [
    "## COLUMNA MARTITAL \n",
    "tenemos solo un 0,2% de valores nulos, los eliminamos directamente."
   ]
  },
  {
   "cell_type": "code",
   "execution_count": 8,
   "id": "7215c0b3",
   "metadata": {},
   "outputs": [],
   "source": [
    "df = df.dropna(subset=['marital'])"
   ]
  },
  {
   "cell_type": "markdown",
   "id": "e1664e90",
   "metadata": {},
   "source": [
    "## COLUMNA EDUCATION\n",
    "vamos a agrupar en rangos mas amplios para reducir el ruido y mejorar la interpretacion.\n",
    "- Higher: university.degree, professional.course --> educación superior o técnica\n",
    "- Secondary: high.school --> educacion secundaria completa\n",
    "- Basic: basic.4y, basic.6y, basic.9y --> educación básica\n",
    "- Illiterate: illiterate\n",
    "- Unknown: NaN\t"
   ]
  },
  {
   "cell_type": "code",
   "execution_count": 9,
   "id": "8ccd2c48",
   "metadata": {},
   "outputs": [],
   "source": [
    "education_map = {\n",
    "    'university.degree': 'Higher',\n",
    "    'professional.course': 'Higher',\n",
    "    'high.school': 'Secondary',\n",
    "    'basic.4y': 'Basic',\n",
    "    'basic.6y': 'Basic',\n",
    "    'basic.9y': 'Basic',\n",
    "    'illiterate': 'Illiterate'\n",
    "}\n",
    "\n",
    "df['education_grouped'] = df['education'].map(education_map)\n",
    "df['education_grouped'] = df['education_grouped'].fillna('Unknown')"
   ]
  },
  {
   "cell_type": "markdown",
   "id": "eba2dcf3",
   "metadata": {},
   "source": [
    "## COLUMNA HOUSING\n",
    "tenemos solo 2,39% de valores nulos, los eliminamos"
   ]
  },
  {
   "cell_type": "code",
   "execution_count": 10,
   "id": "2e6c7a37",
   "metadata": {},
   "outputs": [],
   "source": [
    "df = df.dropna(subset=['housing'])"
   ]
  },
  {
   "cell_type": "markdown",
   "id": "2c79ad49",
   "metadata": {},
   "source": [
    "## COLUMNA LOAN\n",
    "teniamos nulos que se eliminaron porque coincidian con los de la columna housing, lo dejamos asi"
   ]
  },
  {
   "cell_type": "markdown",
   "id": "4e3d3bc3",
   "metadata": {},
   "source": [
    "## COLUMNA DURATION\n",
    "eliminamos los valores de duradion 0 que no tienen sentido y para los outliers extremos vamos a utilizar un percentil alto como limite (0.99)"
   ]
  },
  {
   "cell_type": "code",
   "execution_count": 11,
   "id": "8e6833e8",
   "metadata": {},
   "outputs": [],
   "source": [
    "df = df[df['duration'] > 0]"
   ]
  },
  {
   "cell_type": "code",
   "execution_count": 12,
   "id": "8492346f",
   "metadata": {},
   "outputs": [],
   "source": [
    "df = df[df['duration'] < df['duration'].quantile(0.99)]"
   ]
  },
  {
   "cell_type": "markdown",
   "id": "4fd93095",
   "metadata": {},
   "source": [
    "## COLUMNA CAMPAIGN\n",
    "limitamos a 10 el valor total para eliminar a los outliers, en una nueva columna por el momento"
   ]
  },
  {
   "cell_type": "code",
   "execution_count": 13,
   "id": "899fd567",
   "metadata": {},
   "outputs": [],
   "source": [
    "df['campaign_capped'] = df['campaign'].apply(lambda x: x if x <= 10 else 10)"
   ]
  },
  {
   "cell_type": "markdown",
   "id": "97fb95d3",
   "metadata": {},
   "source": [
    "## COLUMNA EMP.VAR.RATE\n",
    "vamos a crear una variable categorica para agrupar por etiquetas el contexto economico"
   ]
  },
  {
   "cell_type": "code",
   "execution_count": 14,
   "id": "a539862c",
   "metadata": {},
   "outputs": [],
   "source": [
    "df['emp_var_context'] = pd.cut(df['emp.var.rate'],\n",
    "                               bins=[-10, -2, 0, 2, 10],\n",
    "                               labels=['Recesión fuerte', 'Recesión leve', 'Estable', 'Crecimiento'])"
   ]
  },
  {
   "cell_type": "markdown",
   "id": "b7bd0ee6",
   "metadata": {},
   "source": [
    "## COLUMNAS 'cons.price.idx', 'cons.conf.idx','euribor3m', 'nr.employed'\n",
    "tenemmos que reemplazar las , por . para convertir a columnas numericas"
   ]
  },
  {
   "cell_type": "code",
   "execution_count": 15,
   "id": "7f66a8ff",
   "metadata": {},
   "outputs": [],
   "source": [
    "for col in df.select_dtypes(include='object').columns:\n",
    "    df[col] = df[col].str.replace(',','.')\n",
    "    try:\n",
    "        df[col] = df[col].astype(float)\n",
    "    except:\n",
    "        pass"
   ]
  },
  {
   "cell_type": "code",
   "execution_count": 16,
   "id": "2b9df762",
   "metadata": {},
   "outputs": [
    {
     "data": {
      "text/html": [
       "<div>\n",
       "<style scoped>\n",
       "    .dataframe tbody tr th:only-of-type {\n",
       "        vertical-align: middle;\n",
       "    }\n",
       "\n",
       "    .dataframe tbody tr th {\n",
       "        vertical-align: top;\n",
       "    }\n",
       "\n",
       "    .dataframe thead th {\n",
       "        text-align: right;\n",
       "    }\n",
       "</style>\n",
       "<table border=\"1\" class=\"dataframe\">\n",
       "  <thead>\n",
       "    <tr style=\"text-align: right;\">\n",
       "      <th></th>\n",
       "      <th>count</th>\n",
       "      <th>mean</th>\n",
       "      <th>std</th>\n",
       "      <th>min</th>\n",
       "      <th>25%</th>\n",
       "      <th>50%</th>\n",
       "      <th>75%</th>\n",
       "      <th>max</th>\n",
       "    </tr>\n",
       "  </thead>\n",
       "  <tbody>\n",
       "    <tr>\n",
       "      <th>age</th>\n",
       "      <td>41466.0</td>\n",
       "      <td>39.98</td>\n",
       "      <td>10.45</td>\n",
       "      <td>17.00</td>\n",
       "      <td>32.00</td>\n",
       "      <td>38.00</td>\n",
       "      <td>47.00</td>\n",
       "      <td>98.00</td>\n",
       "    </tr>\n",
       "    <tr>\n",
       "      <th>housing</th>\n",
       "      <td>41466.0</td>\n",
       "      <td>0.54</td>\n",
       "      <td>0.50</td>\n",
       "      <td>0.00</td>\n",
       "      <td>0.00</td>\n",
       "      <td>1.00</td>\n",
       "      <td>1.00</td>\n",
       "      <td>1.00</td>\n",
       "    </tr>\n",
       "    <tr>\n",
       "      <th>loan</th>\n",
       "      <td>41466.0</td>\n",
       "      <td>0.16</td>\n",
       "      <td>0.36</td>\n",
       "      <td>0.00</td>\n",
       "      <td>0.00</td>\n",
       "      <td>0.00</td>\n",
       "      <td>0.00</td>\n",
       "      <td>1.00</td>\n",
       "    </tr>\n",
       "    <tr>\n",
       "      <th>duration</th>\n",
       "      <td>41466.0</td>\n",
       "      <td>243.62</td>\n",
       "      <td>212.15</td>\n",
       "      <td>1.00</td>\n",
       "      <td>102.00</td>\n",
       "      <td>178.00</td>\n",
       "      <td>313.00</td>\n",
       "      <td>1267.00</td>\n",
       "    </tr>\n",
       "    <tr>\n",
       "      <th>campaign</th>\n",
       "      <td>41466.0</td>\n",
       "      <td>2.57</td>\n",
       "      <td>2.77</td>\n",
       "      <td>1.00</td>\n",
       "      <td>1.00</td>\n",
       "      <td>2.00</td>\n",
       "      <td>3.00</td>\n",
       "      <td>43.00</td>\n",
       "    </tr>\n",
       "    <tr>\n",
       "      <th>emp.var.rate</th>\n",
       "      <td>41466.0</td>\n",
       "      <td>0.08</td>\n",
       "      <td>1.57</td>\n",
       "      <td>-3.40</td>\n",
       "      <td>-1.80</td>\n",
       "      <td>1.10</td>\n",
       "      <td>1.40</td>\n",
       "      <td>1.40</td>\n",
       "    </tr>\n",
       "    <tr>\n",
       "      <th>cons.price.idx</th>\n",
       "      <td>41009.0</td>\n",
       "      <td>93.57</td>\n",
       "      <td>0.58</td>\n",
       "      <td>92.20</td>\n",
       "      <td>93.08</td>\n",
       "      <td>93.44</td>\n",
       "      <td>93.99</td>\n",
       "      <td>94.77</td>\n",
       "    </tr>\n",
       "    <tr>\n",
       "      <th>cons.conf.idx</th>\n",
       "      <td>41466.0</td>\n",
       "      <td>-40.51</td>\n",
       "      <td>4.64</td>\n",
       "      <td>-50.80</td>\n",
       "      <td>-42.70</td>\n",
       "      <td>-41.80</td>\n",
       "      <td>-36.40</td>\n",
       "      <td>-26.90</td>\n",
       "    </tr>\n",
       "    <tr>\n",
       "      <th>euribor3m</th>\n",
       "      <td>32551.0</td>\n",
       "      <td>3.61</td>\n",
       "      <td>1.74</td>\n",
       "      <td>0.63</td>\n",
       "      <td>1.34</td>\n",
       "      <td>4.86</td>\n",
       "      <td>4.96</td>\n",
       "      <td>5.04</td>\n",
       "    </tr>\n",
       "    <tr>\n",
       "      <th>nr.employed</th>\n",
       "      <td>41466.0</td>\n",
       "      <td>5166.84</td>\n",
       "      <td>72.38</td>\n",
       "      <td>4963.60</td>\n",
       "      <td>5099.10</td>\n",
       "      <td>5191.00</td>\n",
       "      <td>5228.10</td>\n",
       "      <td>5228.10</td>\n",
       "    </tr>\n",
       "    <tr>\n",
       "      <th>campaign_capped</th>\n",
       "      <td>41466.0</td>\n",
       "      <td>2.43</td>\n",
       "      <td>2.03</td>\n",
       "      <td>1.00</td>\n",
       "      <td>1.00</td>\n",
       "      <td>2.00</td>\n",
       "      <td>3.00</td>\n",
       "      <td>10.00</td>\n",
       "    </tr>\n",
       "  </tbody>\n",
       "</table>\n",
       "</div>"
      ],
      "text/plain": [
       "                   count     mean     std      min      25%      50%      75%  \\\n",
       "age              41466.0    39.98   10.45    17.00    32.00    38.00    47.00   \n",
       "housing          41466.0     0.54    0.50     0.00     0.00     1.00     1.00   \n",
       "loan             41466.0     0.16    0.36     0.00     0.00     0.00     0.00   \n",
       "duration         41466.0   243.62  212.15     1.00   102.00   178.00   313.00   \n",
       "campaign         41466.0     2.57    2.77     1.00     1.00     2.00     3.00   \n",
       "emp.var.rate     41466.0     0.08    1.57    -3.40    -1.80     1.10     1.40   \n",
       "cons.price.idx   41009.0    93.57    0.58    92.20    93.08    93.44    93.99   \n",
       "cons.conf.idx    41466.0   -40.51    4.64   -50.80   -42.70   -41.80   -36.40   \n",
       "euribor3m        32551.0     3.61    1.74     0.63     1.34     4.86     4.96   \n",
       "nr.employed      41466.0  5166.84   72.38  4963.60  5099.10  5191.00  5228.10   \n",
       "campaign_capped  41466.0     2.43    2.03     1.00     1.00     2.00     3.00   \n",
       "\n",
       "                     max  \n",
       "age                98.00  \n",
       "housing             1.00  \n",
       "loan                1.00  \n",
       "duration         1267.00  \n",
       "campaign           43.00  \n",
       "emp.var.rate        1.40  \n",
       "cons.price.idx     94.77  \n",
       "cons.conf.idx     -26.90  \n",
       "euribor3m           5.04  \n",
       "nr.employed      5228.10  \n",
       "campaign_capped    10.00  "
      ]
     },
     "execution_count": 16,
     "metadata": {},
     "output_type": "execute_result"
    }
   ],
   "source": [
    "df.describe(include='number').T.round(2)"
   ]
  },
  {
   "cell_type": "markdown",
   "id": "f2b72f2d",
   "metadata": {},
   "source": [
    "## COLUMNA cons.price.idx\t\n",
    "rellenamos con la mediana los valores nulos, son muy pocos"
   ]
  },
  {
   "cell_type": "code",
   "execution_count": 17,
   "id": "63fd994f",
   "metadata": {},
   "outputs": [],
   "source": [
    "df['cons.price.idx'] = df['cons.price.idx'].fillna(df['cons.price.idx'].median())"
   ]
  },
  {
   "cell_type": "markdown",
   "id": "ebb423d6",
   "metadata": {},
   "source": [
    "## COLUMNA cons.conf.idx\n",
    "agrupamos en rangos el indice de confianza del consumidor para manejarlo mejor como una columna categorica"
   ]
  },
  {
   "cell_type": "code",
   "execution_count": 18,
   "id": "68cba21f",
   "metadata": {},
   "outputs": [],
   "source": [
    "df['conf_idx_cat'] = pd.qcut(df['cons.conf.idx'], q=4, labels=['Very Low', 'Low', 'Medium', 'High'])"
   ]
  },
  {
   "cell_type": "markdown",
   "id": "e1901c78",
   "metadata": {},
   "source": [
    "## COLUMNA EURIBOR3M\n",
    "convertimos en una categorica y agrupamos por etiquetas, como tenemos muchos nulos, agrupamos en una variable de unknown"
   ]
  },
  {
   "cell_type": "code",
   "execution_count": 19,
   "id": "afcbb8ab",
   "metadata": {},
   "outputs": [],
   "source": [
    "df['euribor_cat'] = pd.cut(df['euribor3m'], bins=[0, 2, 4, 6], labels=['Low', 'Medium', 'High'])\n",
    "df['euribor_cat'] = df['euribor_cat'].cat.add_categories('Unknown')\n",
    "df['euribor_cat'] = df['euribor_cat'].fillna('Unknown')"
   ]
  },
  {
   "cell_type": "markdown",
   "id": "ea9a2ec9",
   "metadata": {},
   "source": [
    "## COLUMNA DATE\n",
    "pasar a formato fecha"
   ]
  },
  {
   "cell_type": "code",
   "execution_count": 20,
   "id": "81d8051c",
   "metadata": {},
   "outputs": [],
   "source": [
    "meses = {'enero':'01',\n",
    "         'febrero':'02',\n",
    "         'marzo':'03',\n",
    "         'abril':'04',\n",
    "         'mayo':'05',\n",
    "         'junio':'06',\n",
    "         'julio':'07',\n",
    "         'agosto':'08',\n",
    "         'septiembre':'09',\n",
    "         'octubre':'10',\n",
    "         'noviembre':'11',\n",
    "         'diciembre':'12'}"
   ]
  },
  {
   "cell_type": "code",
   "execution_count": 21,
   "id": "55ecda7c",
   "metadata": {},
   "outputs": [],
   "source": [
    "df.replace({'date':meses}, regex=True, inplace= True)"
   ]
  },
  {
   "cell_type": "code",
   "execution_count": 22,
   "id": "9d6188dd",
   "metadata": {},
   "outputs": [
    {
     "name": "stdout",
     "output_type": "stream",
     "text": [
      "<class 'pandas.core.frame.DataFrame'>\n",
      "Index: 41466 entries, 0 to 27570\n",
      "Data columns (total 21 columns):\n",
      " #   Column             Non-Null Count  Dtype         \n",
      "---  ------             --------------  -----         \n",
      " 0   age                41466 non-null  float64       \n",
      " 1   job                41139 non-null  object        \n",
      " 2   marital            41466 non-null  object        \n",
      " 3   education          39724 non-null  object        \n",
      " 4   housing            41466 non-null  float64       \n",
      " 5   loan               41466 non-null  float64       \n",
      " 6   duration           41466 non-null  int64         \n",
      " 7   campaign           41466 non-null  int64         \n",
      " 8   emp.var.rate       41466 non-null  float64       \n",
      " 9   cons.price.idx     41466 non-null  float64       \n",
      " 10  cons.conf.idx      41466 non-null  float64       \n",
      " 11  euribor3m          32551 non-null  float64       \n",
      " 12  nr.employed        41466 non-null  float64       \n",
      " 13  y                  41466 non-null  object        \n",
      " 14  date               41229 non-null  datetime64[ns]\n",
      " 15  id_                41466 non-null  object        \n",
      " 16  education_grouped  41466 non-null  object        \n",
      " 17  campaign_capped    41466 non-null  int64         \n",
      " 18  emp_var_context    41466 non-null  category      \n",
      " 19  conf_idx_cat       41466 non-null  category      \n",
      " 20  euribor_cat        41466 non-null  category      \n",
      "dtypes: category(3), datetime64[ns](1), float64(8), int64(3), object(6)\n",
      "memory usage: 6.1+ MB\n"
     ]
    }
   ],
   "source": [
    "df['date'] = pd.to_datetime(df['date'], format='%d-%m-%Y')\n",
    "df.info()"
   ]
  },
  {
   "cell_type": "markdown",
   "id": "e11bd67b",
   "metadata": {},
   "source": [
    "## guardamos los datos limpios"
   ]
  },
  {
   "cell_type": "code",
   "execution_count": 23,
   "id": "19c6e8a1",
   "metadata": {},
   "outputs": [],
   "source": [
    "df.to_csv('../DATA/OUTPUT/bank-additional_limpio.csv', index=False)"
   ]
  }
 ],
 "metadata": {
  "kernelspec": {
   "display_name": "Python 3",
   "language": "python",
   "name": "python3"
  },
  "language_info": {
   "codemirror_mode": {
    "name": "ipython",
    "version": 3
   },
   "file_extension": ".py",
   "mimetype": "text/x-python",
   "name": "python",
   "nbconvert_exporter": "python",
   "pygments_lexer": "ipython3",
   "version": "3.9.6"
  }
 },
 "nbformat": 4,
 "nbformat_minor": 5
}
